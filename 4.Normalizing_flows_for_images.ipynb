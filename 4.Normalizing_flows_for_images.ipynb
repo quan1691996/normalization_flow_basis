{
 "cells": [
  {
   "cell_type": "code",
   "execution_count": 1,
   "metadata": {},
   "outputs": [
    {
     "name": "stderr",
     "output_type": "stream",
     "text": [
      "/home/quan1691996/normalization_flow_basis/lib/python3.10/site-packages/tqdm/auto.py:22: TqdmWarning: IProgress not found. Please update jupyter and ipywidgets. See https://ipywidgets.readthedocs.io/en/stable/user_install.html\n",
      "  from .autonotebook import tqdm as notebook_tqdm\n"
     ]
    }
   ],
   "source": [
    "from torch.distributions.uniform import Uniform\n",
    "from torch.distributions.beta import Beta\n",
    "from torch.distributions.normal import Normal\n",
    "\n",
    "import pickle\n",
    "from utils import *\n",
    "import torch.utils.data as data\n",
    "\n",
    "from sklearn.datasets import make_moons\n",
    "\n",
    "import matplotlib.pyplot as plt\n",
    "%matplotlib inline\n",
    "\n",
    "import numpy as np\n",
    "import torch"
   ]
  },
  {
   "attachments": {},
   "cell_type": "markdown",
   "metadata": {},
   "source": [
    "Download dataset"
   ]
  },
  {
   "cell_type": "code",
   "execution_count": 2,
   "metadata": {},
   "outputs": [],
   "source": [
    "FILENAME = 'shape.pkl'\n",
    "with open(FILENAME, 'rb') as f:\n",
    "    shape_data = pickle.load(f)\n",
    "training_data, testing_data = shape_data['train'], shape_data['test']\n",
    "# training_data.shape = (10479, 20, 20, 1)\n",
    "training_data = (training_data > 127.5).astype(np.uint8)\n",
    "# training_data.shape = (4491, 20, 20, 1)\n",
    "testing_data = (testing_data > 127.5).astype(np.uint8)\n",
    "\n",
    "train_loader = data.DataLoader(ShapesDataset(training_data), shuffle=True, batch_size=128)\n",
    "test_loader = data.DataLoader(ShapesDataset(testing_data), shuffle=True, batch_size=128)"
   ]
  },
  {
   "attachments": {},
   "cell_type": "markdown",
   "metadata": {},
   "source": [
    "Training"
   ]
  },
  {
   "cell_type": "code",
   "execution_count": 3,
   "metadata": {},
   "outputs": [
    {
     "data": {
      "text/plain": [
       "AutoRegressiveFlow(\n",
       "  (model): Sequential(\n",
       "    (0): MaskedConv2d(1, 64, kernel_size=(7, 7), stride=(1, 1), padding=(3, 3))\n",
       "    (1): LayerNorm((64,), eps=1e-05, elementwise_affine=True)\n",
       "    (2): ReLU()\n",
       "    (3): MaskedConv2d(64, 64, kernel_size=(7, 7), stride=(1, 1), padding=(3, 3))\n",
       "    (4): LayerNorm((64,), eps=1e-05, elementwise_affine=True)\n",
       "    (5): ReLU()\n",
       "    (6): MaskedConv2d(64, 64, kernel_size=(7, 7), stride=(1, 1), padding=(3, 3))\n",
       "    (7): LayerNorm((64,), eps=1e-05, elementwise_affine=True)\n",
       "    (8): ReLU()\n",
       "    (9): MaskedConv2d(64, 64, kernel_size=(7, 7), stride=(1, 1), padding=(3, 3))\n",
       "    (10): LayerNorm((64,), eps=1e-05, elementwise_affine=True)\n",
       "    (11): ReLU()\n",
       "    (12): MaskedConv2d(64, 64, kernel_size=(7, 7), stride=(1, 1), padding=(3, 3))\n",
       "    (13): LayerNorm((64,), eps=1e-05, elementwise_affine=True)\n",
       "    (14): ReLU()\n",
       "    (15): MaskedConv2d(64, 64, kernel_size=(7, 7), stride=(1, 1), padding=(3, 3))\n",
       "    (16): MaskedConv2d(64, 64, kernel_size=(1, 1), stride=(1, 1))\n",
       "    (17): MaskedConv2d(64, 30, kernel_size=(1, 1), stride=(1, 1))\n",
       "  )\n",
       ")"
      ]
     },
     "execution_count": 3,
     "metadata": {},
     "output_type": "execute_result"
    }
   ],
   "source": [
    "flow = AutoRegressiveFlow(1, num_layers=5, n_components=10)\n",
    "flow.apply(weights_init)"
   ]
  },
  {
   "cell_type": "code",
   "execution_count": 4,
   "metadata": {},
   "outputs": [
    {
     "name": "stdout",
     "output_type": "stream",
     "text": [
      "no of parameters is 1013790\n",
      "Starting epoch: 1 of 20\n",
      "Starting epoch: 2 of 20\n",
      "Starting epoch: 3 of 20\n",
      "Starting epoch: 4 of 20\n",
      "Starting epoch: 5 of 20\n",
      "Starting epoch: 6 of 20\n",
      "Starting epoch: 7 of 20\n",
      "Starting epoch: 8 of 20\n",
      "Starting epoch: 9 of 20\n",
      "Starting epoch: 10 of 20\n",
      "Starting epoch: 11 of 20\n",
      "Starting epoch: 12 of 20\n",
      "Starting epoch: 13 of 20\n",
      "Starting epoch: 14 of 20\n",
      "Starting epoch: 15 of 20\n",
      "Starting epoch: 16 of 20\n",
      "Starting epoch: 17 of 20\n",
      "Starting epoch: 18 of 20\n",
      "Starting epoch: 19 of 20\n",
      "Starting epoch: 20 of 20\n",
      "train losses are [3.6255643367767334, 0.4485270380973816, 2.6166441440582275, -0.2286633402109146, 0.5354202389717102, 2.7266104221343994, 2.367159843444824, -0.4934118986129761, -0.7398662567138672, 0.6573632955551147, 0.4051560163497925, -0.08430743962526321, 1.9238247871398926, -0.7301827669143677, -0.10257623344659805, -0.7886518836021423, -0.8365925550460815, 1.2056536674499512, -0.6689359545707703, -1.1547787189483643]\n",
      "test losses are [3.625563621520996, 0.44837987422943115, 2.6166584491729736, -0.22852788865566254, 0.5342291593551636, 2.7266571521759033, 2.3671913146972656, -0.49338221549987793, -0.7400962114334106, 0.6582291722297668, 0.40395912528038025, -0.08459364622831345, 1.9238470792770386, -0.730390191078186, -0.10115256160497665, -0.7893709540367126, -0.8366949558258057, 1.2057101726531982, -0.6693000197410583, -1.1550425291061401]\n"
     ]
    }
   ],
   "source": [
    "device = torch.device(\"cpu\")\n",
    "\n",
    "def train_and_eval(flow, epochs, lr, train_loader, test_loader, target_distribution):\n",
    "    print('no of parameters is', sum(param.numel() for param in flow.parameters()))\n",
    "    optimizer = torch.optim.Adam(flow.parameters(), lr=lr)\n",
    "    train_losses, test_losses = [], []\n",
    "    for epoch in range(epochs):\n",
    "        print('Starting epoch:', epoch+1, 'of', epochs)\n",
    "        train(flow, train_loader, optimizer, target_distribution)\n",
    "        train_losses.append(eval_loss(flow, train_loader, target_distribution))\n",
    "        test_losses.append(eval_loss(flow, test_loader, target_distribution))\n",
    "    return flow, train_losses, test_losses\n",
    "\n",
    "target_distribution = Uniform(torch.tensor(0).float().to(device),torch.tensor(1).float().to(device))\n",
    "flow, train_losses, test_losses = train_and_eval(flow, 20, 1e-3, train_loader, test_loader, target_distribution)\n",
    "print('train losses are', train_losses)\n",
    "print('test losses are', test_losses)"
   ]
  },
  {
   "cell_type": "code",
   "execution_count": 6,
   "metadata": {},
   "outputs": [],
   "source": [
    "def sample(flow, num_samples):\n",
    "    n_channels, height, width = 1, 20, 20\n",
    "    result = torch.zeros(num_samples, n_channels, height, width)\n",
    "    with torch.no_grad():\n",
    "        for row in range(height):\n",
    "            for col in range(width):\n",
    "                for channel in range(n_channels):\n",
    "                    model_output = flow.model(result)\n",
    "                    mus, log_sigmas, weight_logits = torch.chunk(model_output, 3, dim=1)\n",
    "                    \n",
    "                    mus = mus.view(num_samples, flow.n_components, n_channels, height, width)\n",
    "                    log_sigmas = log_sigmas.view(num_samples, flow.n_components, n_channels, height, width)\n",
    "                    weight_logits = weight_logits.view(num_samples, flow.n_components, n_channels, height, width)\n",
    "                    \n",
    "                    # get the mus, sigmas and weights for pixel at (channel, row, col)\n",
    "                    mus = mus[:,:,channel, row, col]\n",
    "                    log_sigmas = log_sigmas[:,:,channel, row, col]\n",
    "                    weight_logits = weight_logits[:,:,channel, row, col]\n",
    "                    weights = weight_logits.softmax(dim=1)\n",
    "                    \n",
    "                    # a sample at (channel, row, col) comes from a mixture of Gaussians\n",
    "                    # where the probability of the Gaussian `i` is given by `weights[i]`\n",
    "                    indices_of_gaussians_to_sample_from = torch.multinomial(weights, 1).squeeze(-1)\n",
    "                    zero_to_num_samples = torch.arange(num_samples)\n",
    "                    mus_per_batch = mus[zero_to_num_samples, indices_of_gaussians_to_sample_from]\n",
    "                    sigmas_per_batch = log_sigmas[zero_to_num_samples, indices_of_gaussians_to_sample_from].exp()\n",
    "                    result[:, channel, row, col] = torch.normal(mus_per_batch, sigmas_per_batch)\n",
    "    return result"
   ]
  },
  {
   "cell_type": "code",
   "execution_count": 7,
   "metadata": {},
   "outputs": [
    {
     "data": {
      "image/png": "[encoded data removed]",
      "text/plain": [
       "<Figure size 2000x500 with 20 Axes>"
      ]
     },
     "metadata": {},
     "output_type": "display_data"
    }
   ],
   "source": [
    "out = sample(flow, 10)\n",
    "_, axes = plt.subplots(2,10,figsize=(20,5))\n",
    "\n",
    "for i in range(10):\n",
    "    _ = axes[0][i].imshow((out[i].squeeze().numpy()).astype(np.float32) , 'gray')\n",
    "    _ = axes[1][i].imshow((out[i].squeeze().numpy()).astype(np.float32) > 0.375 , 'gray')"
   ]
  },
  {
   "cell_type": "code",
   "execution_count": null,
   "metadata": {},
   "outputs": [],
   "source": []
  }
 ],
 "metadata": {
  "kernelspec": {
   "display_name": "normalization_flow_basis",
   "language": "python",
   "name": "python3"
  },
  "language_info": {
   "codemirror_mode": {
    "name": "ipython",
    "version": 3
   },
   "file_extension": ".py",
   "mimetype": "text/x-python",
   "name": "python",
   "nbconvert_exporter": "python",
   "pygments_lexer": "ipython3",
   "version": "3.10.6 (main, Nov 14 2022, 16:10:14) [GCC 11.3.0]"
  },
  "orig_nbformat": 4,
  "vscode": {
   "interpreter": {
    "hash": "7bd2415e548bb5113413fa4736da46f6b3b26cc792666494ea0b75b09a5e6c86"
   }
  }
 },
 "nbformat": 4,
 "nbformat_minor": 2
}
